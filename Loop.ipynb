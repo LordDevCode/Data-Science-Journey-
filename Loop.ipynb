{
 "cells": [
  {
   "cell_type": "code",
   "execution_count": 3,
   "id": "3cd73637-43a0-43ef-a901-c85c7730bb6e",
   "metadata": {},
   "outputs": [],
   "source": [
    "l1 = []\n",
    "l = [5,6,7,8,4]\n",
    "\n",
    "for i in l:\n",
    "    l1.append(i+1)"
   ]
  },
  {
   "cell_type": "code",
   "execution_count": 8,
   "id": "64f0cfab-803d-4745-a316-ce36d027be39",
   "metadata": {},
   "outputs": [
    {
     "data": {
      "text/plain": [
       "[5, 6, 7, 8, 4]"
      ]
     },
     "execution_count": 8,
     "metadata": {},
     "output_type": "execute_result"
    }
   ],
   "source": [
    "l"
   ]
  },
  {
   "cell_type": "code",
   "execution_count": 6,
   "id": "525344e5-3ba4-4460-afba-6f366f143180",
   "metadata": {},
   "outputs": [
    {
     "data": {
      "text/plain": [
       "[6, 7, 8, 9, 5]"
      ]
     },
     "execution_count": 6,
     "metadata": {},
     "output_type": "execute_result"
    }
   ],
   "source": [
    "l1"
   ]
  },
  {
   "cell_type": "code",
   "execution_count": 9,
   "id": "f27ecf10-37c4-42f0-99d4-6bf5c8fbbca0",
   "metadata": {},
   "outputs": [],
   "source": [
    "l2 = []\n",
    "\n",
    "l3 = [\"priyanshu\",\"himanshu\",\"tushar\",\"bhushan\"]\n",
    "\n",
    "for i in l3:\n",
    "    l2.append(i.upper())"
   ]
  },
  {
   "cell_type": "code",
   "execution_count": 10,
   "id": "d4f8613f-7289-465b-b8f1-f6373f6e764c",
   "metadata": {},
   "outputs": [
    {
     "data": {
      "text/plain": [
       "['priyanshu', 'himanshu', 'tushar', 'bhushan']"
      ]
     },
     "execution_count": 10,
     "metadata": {},
     "output_type": "execute_result"
    }
   ],
   "source": [
    "l3"
   ]
  },
  {
   "cell_type": "code",
   "execution_count": 11,
   "id": "e4ac787c-34af-4ad4-b028-c9e3af217629",
   "metadata": {},
   "outputs": [
    {
     "data": {
      "text/plain": [
       "['PRIYANSHU', 'HIMANSHU', 'TUSHAR', 'BHUSHAN']"
      ]
     },
     "execution_count": 11,
     "metadata": {},
     "output_type": "execute_result"
    }
   ],
   "source": [
    "l2"
   ]
  },
  {
   "cell_type": "code",
   "execution_count": 7,
   "id": "904c992b-ac06-40ed-a586-efaafe0589aa",
   "metadata": {},
   "outputs": [],
   "source": [
    "l4 = [\"hii\",5,4,35.5,\"priyanshu\",4.1,\"himanshu\",47,\"tushar\",85,6,\"bhushan\"]\n",
    "l5 = []\n",
    "l6 = []\n",
    "\n",
    "for i in l4:\n",
    "    # if type(i) == str: dont know why it is not work\n",
    "\n",
    "    if isinstance(i, str):\n",
    "        l6.append(i)\n",
    "    else:\n",
    "        l5.append(i)\n",
    "        \n",
    "# for i in l4:\n",
    "#     if type(i) == int or type(i) == float:\n",
    "#         l5.append(i)\n",
    "#     else:\n",
    "#         l6.append(i)"
   ]
  },
  {
   "cell_type": "code",
   "execution_count": 8,
   "id": "558d9736-d15e-4ebe-95cb-7fa0ef7ac6b7",
   "metadata": {},
   "outputs": [
    {
     "data": {
      "text/plain": [
       "[5, 4, 35.5, 4.1, 47, 85, 6]"
      ]
     },
     "execution_count": 8,
     "metadata": {},
     "output_type": "execute_result"
    }
   ],
   "source": [
    "l5"
   ]
  },
  {
   "cell_type": "code",
   "execution_count": 9,
   "id": "cbf2a5a5-eb94-4223-8ed7-0a80ad0177ba",
   "metadata": {},
   "outputs": [
    {
     "data": {
      "text/plain": [
       "['hii', 'priyanshu', 'himanshu', 'tushar', 'bhushan']"
      ]
     },
     "execution_count": 9,
     "metadata": {},
     "output_type": "execute_result"
    }
   ],
   "source": [
    "l6"
   ]
  },
  {
   "cell_type": "code",
   "execution_count": 35,
   "id": "2826471c-c606-44e4-9f44-cfc4437bc219",
   "metadata": {},
   "outputs": [
    {
     "data": {
      "text/plain": [
       "str"
      ]
     },
     "execution_count": 35,
     "metadata": {},
     "output_type": "execute_result"
    }
   ],
   "source": [
    "type(\"he\")"
   ]
  },
  {
   "cell_type": "code",
   "execution_count": 22,
   "id": "3dc2f0b0-b8a9-442d-baec-ec935341cd7f",
   "metadata": {},
   "outputs": [],
   "source": [
    "#seperate keys and values from dictionary using for loop\n",
    "\n",
    "d = {\"A\" : \"Ambedkar\",\"B\" : \"Buddha\", \"c\" : \"Charkra varti Ashok samrat\"}\n",
    "\n",
    "keys = []\n",
    "values = []\n",
    "\n",
    "for i in d.items(): #[(\"A\",\"Ambedkar\"),(\"B\",\"Buddha\"),(\"c\",\"Charkra varti Ashok samrat\")]\n",
    "    keys.append(i[0])\n",
    "    values.append(i[1])"
   ]
  },
  {
   "cell_type": "code",
   "execution_count": 20,
   "id": "31ed57b8-3ece-46d0-ad03-8aec3522eac0",
   "metadata": {},
   "outputs": [
    {
     "data": {
      "text/plain": [
       "['A', 'B', 'c']"
      ]
     },
     "execution_count": 20,
     "metadata": {},
     "output_type": "execute_result"
    }
   ],
   "source": [
    "keys"
   ]
  },
  {
   "cell_type": "code",
   "execution_count": 21,
   "id": "bd1ff79b-7c5e-47f2-bf76-da3d16a89562",
   "metadata": {},
   "outputs": [
    {
     "data": {
      "text/plain": [
       "['Ambedkar', 'Buddha', 'Charkra varti Ashok samrat']"
      ]
     },
     "execution_count": 21,
     "metadata": {},
     "output_type": "execute_result"
    }
   ],
   "source": [
    "values"
   ]
  },
  {
   "cell_type": "code",
   "execution_count": 2,
   "id": "18222a6d-0729-4f4a-81d5-b59dd4b0fb03",
   "metadata": {},
   "outputs": [],
   "source": [
    "l3 = [1,2,3,4,5,6,7,8,9,10]\n",
    "sum = 0"
   ]
  },
  {
   "cell_type": "code",
   "execution_count": 3,
   "id": "a7df31c3-36f9-4ee6-b0cd-c188716f858d",
   "metadata": {},
   "outputs": [
    {
     "name": "stdout",
     "output_type": "stream",
     "text": [
      "55\n"
     ]
    }
   ],
   "source": [
    "for i in range(0,len(l3)):\n",
    "    sum = sum + l3[i]\n",
    "print(sum)\n",
    "    "
   ]
  },
  {
   "cell_type": "markdown",
   "id": "e85d879b-8d36-4b18-bb3d-9314c1323aca",
   "metadata": {},
   "source": [
    "This is for me And i understood what to do for my next post"
   ]
  },
  {
   "cell_type": "markdown",
   "id": "9cce17c3-44e9-4365-8f19-f3fc3d28dab8",
   "metadata": {},
   "source": [
    "This is for me"
   ]
  },
  {
   "cell_type": "code",
   "execution_count": null,
   "id": "091e8722-1514-49f7-9d7d-2fa69762d3d9",
   "metadata": {},
   "outputs": [],
   "source": []
  }
 ],
 "metadata": {
  "kernelspec": {
   "display_name": "Python 3 (ipykernel)",
   "language": "python",
   "name": "python3"
  },
  "language_info": {
   "codemirror_mode": {
    "name": "ipython",
    "version": 3
   },
   "file_extension": ".py",
   "mimetype": "text/x-python",
   "name": "python",
   "nbconvert_exporter": "python",
   "pygments_lexer": "ipython3",
   "version": "3.10.8"
  }
 },
 "nbformat": 4,
 "nbformat_minor": 5
}
