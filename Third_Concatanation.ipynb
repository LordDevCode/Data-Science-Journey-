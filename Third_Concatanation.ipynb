{
 "cells": [
  {
   "cell_type": "code",
   "execution_count": 3,
   "id": "caf04c7d-9371-4464-8f26-d66f714ed19d",
   "metadata": {},
   "outputs": [],
   "source": [
    "a = 11\n",
    "a //=2"
   ]
  },
  {
   "cell_type": "code",
   "execution_count": 4,
   "id": "2a57f06b-b976-4b50-90f9-e43bc4b51b30",
   "metadata": {},
   "outputs": [
    {
     "data": {
      "text/plain": [
       "5"
      ]
     },
     "execution_count": 4,
     "metadata": {},
     "output_type": "execute_result"
    }
   ],
   "source": [
    "a"
   ]
  },
  {
   "cell_type": "code",
   "execution_count": 5,
   "id": "77750935-a90b-4082-ae90-50856c4cdcaf",
   "metadata": {},
   "outputs": [],
   "source": [
    "b = 11"
   ]
  },
  {
   "cell_type": "code",
   "execution_count": 6,
   "id": "c81b6103-0c8d-4596-b61a-59188c827689",
   "metadata": {},
   "outputs": [],
   "source": [
    "b = b // 2"
   ]
  },
  {
   "cell_type": "code",
   "execution_count": 7,
   "id": "ba53406c-2e5e-4058-8dcd-987fc8624aaf",
   "metadata": {},
   "outputs": [
    {
     "data": {
      "text/plain": [
       "5"
      ]
     },
     "execution_count": 7,
     "metadata": {},
     "output_type": "execute_result"
    }
   ],
   "source": [
    "b"
   ]
  },
  {
   "cell_type": "code",
   "execution_count": 8,
   "id": "3c803823-5110-4c32-b3ba-babf93411e2e",
   "metadata": {},
   "outputs": [],
   "source": [
    "l = [1,2,3,4,5]"
   ]
  },
  {
   "cell_type": "code",
   "execution_count": 9,
   "id": "27687d2e-2a0e-44df-9839-ef2168ca385c",
   "metadata": {},
   "outputs": [
    {
     "data": {
      "text/plain": [
       "True"
      ]
     },
     "execution_count": 9,
     "metadata": {},
     "output_type": "execute_result"
    }
   ],
   "source": [
    "2 in l"
   ]
  },
  {
   "cell_type": "code",
   "execution_count": 10,
   "id": "ae004c0d-589c-4d40-b9c8-31758270fa63",
   "metadata": {},
   "outputs": [
    {
     "data": {
      "text/plain": [
       "False"
      ]
     },
     "execution_count": 10,
     "metadata": {},
     "output_type": "execute_result"
    }
   ],
   "source": [
    "6 in l"
   ]
  },
  {
   "cell_type": "code",
   "execution_count": 11,
   "id": "3775c919-487d-4c57-9c71-2c1c1c1cd7e1",
   "metadata": {},
   "outputs": [
    {
     "data": {
      "text/plain": [
       "True"
      ]
     },
     "execution_count": 11,
     "metadata": {},
     "output_type": "execute_result"
    }
   ],
   "source": [
    "6 not in l"
   ]
  },
  {
   "cell_type": "code",
   "execution_count": 12,
   "id": "0304b172-95d5-4862-948d-c399d7876696",
   "metadata": {},
   "outputs": [
    {
     "data": {
      "text/plain": [
       "False"
      ]
     },
     "execution_count": 12,
     "metadata": {},
     "output_type": "execute_result"
    }
   ],
   "source": [
    "2 not in l"
   ]
  },
  {
   "cell_type": "code",
   "execution_count": 18,
   "id": "e1592701-fb6a-4348-8962-9f709c65507e",
   "metadata": {},
   "outputs": [],
   "source": [
    "name = \"priyanshu\"\n",
    "parent = \"Yogeshwar\"\n",
    "surname = \"Dekate\"\n",
    "Class = \"BCA\"\n",
    "college = \"kamala nehru mahavidyalaya\"\n",
    "age = 18\n",
    "mobile = 8380983364\n"
   ]
  },
  {
   "cell_type": "code",
   "execution_count": 20,
   "id": "af8d782e-208c-4084-afe5-67e79d158edf",
   "metadata": {},
   "outputs": [
    {
     "name": "stdout",
     "output_type": "stream",
     "text": [
      "My name is priyanshu and my father name is Yogeshwar and my surname is Dekate and i am doing a BCA in kamala nehru mahavidyalaya and my current age is 18 Year and my mobile number is 8380983364\n"
     ]
    }
   ],
   "source": [
    "print(\"My name is \"+name+\" and my father name is \"+parent+\" and my surname is \"+surname+\" and i am doing a \"+Class+\" in \"+college+\" and my current age is \"+str(age)+\" Year\"+\" and my mobile number is \"+str(mobile))"
   ]
  },
  {
   "cell_type": "code",
   "execution_count": 21,
   "id": "79db9a5e-d3b0-425d-98e7-b7ee2d6d5094",
   "metadata": {},
   "outputs": [
    {
     "name": "stdout",
     "output_type": "stream",
     "text": [
      "My name is  priyanshu  and my father name is  Yogeshwar  and my surname is  Dekate  and i am doing a  BCA  at  kamala nehru mahavidyalaya  and my current age is  18  Year  and my mobile number is  8380983364\n"
     ]
    }
   ],
   "source": [
    "print(\"My name is \",name,\" and my father name is \",parent,\" and my surname is \",surname,\" and i am doing a \",Class,\" at \",college,\" and my current age is \",age,\" Year\",\" and my mobile number is \",mobile)"
   ]
  },
  {
   "cell_type": "code",
   "execution_count": 23,
   "id": "82c93171-6bf5-463a-b603-1ba1fe5f7211",
   "metadata": {},
   "outputs": [
    {
     "name": "stdout",
     "output_type": "stream",
     "text": [
      "my name is priyanshu and my father name is Yogeshwar and my surname is Dekate and i am doing a BCA at kamala nehru mahavidyalaya and my current age is 18 and my mobile number is 8380983364\n"
     ]
    }
   ],
   "source": [
    "print(f\"my name is {name} and my father name is {parent} and my surname is {surname} and i am doing a {Class} at {college} and my current age is {age} and my mobile number is {mobile}\")"
   ]
  },
  {
   "cell_type": "code",
   "execution_count": 24,
   "id": "c9e2cec2-3992-4217-9274-c26a023511e8",
   "metadata": {},
   "outputs": [
    {
     "name": "stdout",
     "output_type": "stream",
     "text": [
      "Now, my age is 18 year, Can i drive a vehicle\n"
     ]
    }
   ],
   "source": [
    "print(f\"Now, my age is {age} year, Can i drive a vehicle\")"
   ]
  },
  {
   "cell_type": "code",
   "execution_count": 25,
   "id": "9f58abc8-d86f-4036-abd6-3369af2e439b",
   "metadata": {},
   "outputs": [
    {
     "name": "stdout",
     "output_type": "stream",
     "text": [
      "My name is priyanshu Yogeshwar Dekate \n"
     ]
    }
   ],
   "source": [
    "print(\"My name is {} {} {} \".format(name,parent,surname))"
   ]
  },
  {
   "cell_type": "code",
   "execution_count": 2,
   "id": "52a3adb2-7f54-4f2f-8c1f-a4c31bbd9a40",
   "metadata": {},
   "outputs": [
    {
     "name": "stdout",
     "output_type": "stream",
     "text": [
      "HelloWorld\n"
     ]
    }
   ],
   "source": [
    "#concatanation of String\n",
    "\n",
    "s1 = \"Hello\"\n",
    "s2 = \"World\"\n",
    "\n",
    "print(\"\".join([s1,s2]))\n",
    "\n"
   ]
  },
  {
   "cell_type": "code",
   "execution_count": 4,
   "id": "a3f166b4-f2b0-4ea8-bd63-7961221cff19",
   "metadata": {},
   "outputs": [
    {
     "name": "stdout",
     "output_type": "stream",
     "text": [
      "Hello World priyanshu\n"
     ]
    }
   ],
   "source": [
    "print(\" \".join([s1,s2,\"priyanshu\"]))"
   ]
  },
  {
   "cell_type": "code",
   "execution_count": 1,
   "id": "7e23a86e-4f52-472e-9d3f-64866f8bd048",
   "metadata": {},
   "outputs": [
    {
     "data": {
      "text/plain": [
       "'phmmrhmmihmmyhmmahmmnhmmshmmhhmmu'"
      ]
     },
     "execution_count": 1,
     "metadata": {},
     "output_type": "execute_result"
    }
   ],
   "source": [
    "\"hmm\".join(\"priyanshu\")"
   ]
  },
  {
   "cell_type": "code",
   "execution_count": null,
   "id": "27663749-0770-4f4a-bc6d-1249a805d860",
   "metadata": {},
   "outputs": [],
   "source": [
    "\n",
    "print(f\"hello{}\")"
   ]
  },
  {
   "cell_type": "code",
   "execution_count": 1,
   "id": "f1f5410b-8078-4aac-923e-d80940bfbb41",
   "metadata": {},
   "outputs": [
    {
     "name": "stdout",
     "output_type": "stream",
     "text": [
      "helloworld\n"
     ]
    }
   ],
   "source": [
    "world = \"world\"\n",
    "print(f\"hello{world}\")"
   ]
  },
  {
   "cell_type": "markdown",
   "id": "546b8f38-83a0-42de-b366-0f4f73fb1a59",
   "metadata": {},
   "source": [
    "              P  \n",
    "                \n",
    "                Concatenation in Python programming language.\n",
    "                    \n",
    "                    1. Using ( + ) operator\n",
    "                    2. Using ( , ) comma\n",
    "                    3. Using .join() method\n",
    "                    4. Using fString\n",
    "                    5. Using format() Function\n",
    "                    6. Using ( % ) operator"
   ]
  },
  {
   "cell_type": "code",
   "execution_count": 16,
   "id": "140034c0-36f7-4e67-8e97-8464f27fc329",
   "metadata": {},
   "outputs": [
    {
     "name": "stdout",
     "output_type": "stream",
     "text": [
      "My name is Priyanshu, I am 18 years old, My Aim to become a Data Scientist and my current focus is on Learning a python Programming Language.\n",
      "['Hello', 'Everyone', 'My Friend', 1000]\n"
     ]
    }
   ],
   "source": [
    "# ( + ) operator\n",
    "\n",
    "Name = \"Priyanshu\"\n",
    "Aim = \"Data Scientist\"\n",
    "Age = 18\n",
    "Working = \"Learning a python Programming Language.\"\n",
    "\n",
    "\n",
    "print(\"My name is \"+Name+\", I am \"+str(Age)+\" years old, My Aim to become a \"+Aim+\" and my current focus is on \"+Working)\n",
    "\n",
    "\n",
    "l1 = [\"Hello\"]\n",
    "l2 = [\"Everyone\",\"My Friend\",1000]\n",
    "\n",
    "print(l1+l2)\n",
    "\n",
    "#Note:- using ( + ) operator concatenation only perform on a Same Data type ex - str to str, list to list, tuple to tuple, for set and dict it is not suppoeted\n",
    "\n"
   ]
  },
  {
   "cell_type": "code",
   "execution_count": 30,
   "id": "bfef9b96-e5c3-459f-b3e1-e2ed2e1315e0",
   "metadata": {},
   "outputs": [
    {
     "name": "stdout",
     "output_type": "stream",
     "text": [
      "My name is Priyanshu , I am 18 years old, My Aim to become a Data Scientist and my current focus is on Learning a Python Programming Language.\n",
      "('Hello', 'Everyone', 'My Friend', 1000)\n"
     ]
    }
   ],
   "source": [
    "# ( , ) commas\n",
    "\n",
    "Name = \"Priyanshu\"\n",
    "Aim = \"Data Scientist\"\n",
    "Age = 18\n",
    "Working = \"Learning a Python Programming Language.\"\n",
    "\n",
    "\n",
    "print(\"My name is\",Name,\", I am\",Age,\"years old, My Aim to become a\",Aim,\"and my current focus is on\",Working)\n",
    "\n",
    "\n",
    "l1 = (\"Hello\",\"Everyone\")\n",
    "l2 = (\"My Friend\",1000)\n",
    "\n",
    "print(l1+l2)\n",
    "\n",
    "#Nonte :- comma concatanation support same as well as different data type to concate them and it automatically add a space beside the Variables."
   ]
  },
  {
   "cell_type": "code",
   "execution_count": 37,
   "id": "489f5fc1-54d8-42bd-ba05-12f31dfe3b91",
   "metadata": {},
   "outputs": [
    {
     "name": "stdout",
     "output_type": "stream",
     "text": [
      "My name is Priyanshu , I am 18 years old, My Aim to become a Data Scientist and my current focus is on Learning a Python Programming Language.\n",
      "p,r,i,y,a,n,s,h,u\n"
     ]
    }
   ],
   "source": [
    "# .join() method\n",
    "\n",
    "Name = \"Priyanshu\"\n",
    "Aim = \"Data Scientist\"\n",
    "Age = 18\n",
    "Working = \"Learning a Python Programming Language.\"\n",
    "\n",
    "#My name is Priyanshu, I am 18 years old, My Aim to become a Data Scientist and my current focus is on learning a Python programming language\n",
    "l = [\"My name is\",Name,\", I am\",str(Age),\"years old, My Aim to become a\",Aim,\"and my current focus is on\",Working]\n",
    "\n",
    "print(\" \".join(l))\n",
    "\n",
    "print(\",\".join(\"priyanshu\"))\n",
    "\n",
    "# Note:- .join() only perform single iterable argument"
   ]
  },
  {
   "cell_type": "code",
   "execution_count": 50,
   "id": "bc7de206-e467-41a9-8fc2-74fbe6d77fab",
   "metadata": {},
   "outputs": [
    {
     "name": "stdout",
     "output_type": "stream",
     "text": [
      "My name is Priyanshu, I am 18.00 years old, My Aim to become a Data Scientist and my current focus on Learning a Python Programming Language.\n"
     ]
    }
   ],
   "source": [
    "# fstring \n",
    "\n",
    "Name = \"Priyanshu\"\n",
    "Aim = \"Data Scientist\"\n",
    "Age = 18\n",
    "Working = \"Learning a Python Programming Language.\"\n",
    "\n",
    "print(f\"My name is {Name}, I am {Age:.2f} years old, My Aim to become a {Aim} and my current focus on {Working}\")\n",
    "\n",
    "#Note:- To add decimal points zeros use :.nf"
   ]
  },
  {
   "cell_type": "code",
   "execution_count": 61,
   "id": "360de09e-73e3-4b70-95a3-bfeae0f62b72",
   "metadata": {},
   "outputs": [
    {
     "name": "stdout",
     "output_type": "stream",
     "text": [
      "My name is Priyanshu, I am 18 years old, My Aim to become a Data Scientist and my current focus on Learning a Python Programming Language.\n",
      "My name is Priyanshu, I am Data Scientist years old, My Aim to become a 18 and my current focus on Learning a Python Programming Language.\n",
      "My name is Himanshu, I am 16.00 years old, My Aim to become a Sofware Engineere and my current focus on Java Programming Language\n"
     ]
    }
   ],
   "source": [
    "# format() function\n",
    "\n",
    "Name = \"Priyanshu\"\n",
    "Aim = \"Data Scientist\"\n",
    "Age = 18\n",
    "Working = \"Learning a Python Programming Language.\"\n",
    "\n",
    "print(\"My name is {}, I am {} years old, My Aim to become a {} and my current focus on {}\".format(Name,Age,Aim,Working))\n",
    "#Note:- It will work in sequence that we are given in format function parameters.\n",
    "print(\"My name is {0}, I am {2} years old, My Aim to become a {1} and my current focus on {3}\".format(Name,Age,Aim,Working))\n",
    "#Note:- In above second example if we give wrong index number then we will give wrong output.\n",
    "print(\"My name is {Name}, I am {Age:.2f} years old, My Aim to become a {Aim} and my current focus on {Working}\".format(Name = \"Himanshu\",Age = 16,Aim = \"Sofware Engineere\",Working = \"Java Programming Language\"))"
   ]
  },
  {
   "cell_type": "code",
   "execution_count": 75,
   "id": "14e6f134-d29c-40ee-9dd8-26627dddd928",
   "metadata": {},
   "outputs": [
    {
     "name": "stdout",
     "output_type": "stream",
     "text": [
      "My name is Priyanshu, I am 18 years old, My Aim to become a Data Scientist and my current focus on Learning a Python Programming Language.\n"
     ]
    }
   ],
   "source": [
    "# ( % ) function\n",
    "\n",
    "Name = \"Priyanshu\"\n",
    "Aim = \"Data Scientist\"\n",
    "Age = 18\n",
    "Working = \"Learning a Python Programming Language.\"\n",
    "\n",
    "print(\"My name is %s, I am % s years old, My Aim to become a % s and my current focus on % s\" %(Name,Age,Aim,Working))\n",
    "\n",
    "#Note:- Ater % symbol small s is Compulsory."
   ]
  },
  {
   "cell_type": "code",
   "execution_count": null,
   "id": "7f6d47fe-6ffd-4b9c-b1b7-a0411ae01f27",
   "metadata": {},
   "outputs": [],
   "source": []
  }
 ],
 "metadata": {
  "kernelspec": {
   "display_name": "Python 3 (ipykernel)",
   "language": "python",
   "name": "python3"
  },
  "language_info": {
   "codemirror_mode": {
    "name": "ipython",
    "version": 3
   },
   "file_extension": ".py",
   "mimetype": "text/x-python",
   "name": "python",
   "nbconvert_exporter": "python",
   "pygments_lexer": "ipython3",
   "version": "3.10.8"
  }
 },
 "nbformat": 4,
 "nbformat_minor": 5
}
