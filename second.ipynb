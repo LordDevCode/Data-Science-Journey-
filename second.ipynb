{
 "cells": [
  {
   "cell_type": "code",
   "execution_count": 1,
   "id": "7169dea5-213a-4192-b0ce-daec72abd1ce",
   "metadata": {},
   "outputs": [
    {
     "data": {
      "text/plain": [
       "True"
      ]
     },
     "execution_count": 1,
     "metadata": {},
     "output_type": "execute_result"
    }
   ],
   "source": [
    "not False"
   ]
  },
  {
   "cell_type": "code",
   "execution_count": 2,
   "id": "4c3df668-1c36-4d0f-9477-6e8885965563",
   "metadata": {},
   "outputs": [
    {
     "data": {
      "text/plain": [
       "True"
      ]
     },
     "execution_count": 2,
     "metadata": {},
     "output_type": "execute_result"
    }
   ],
   "source": [
    "not(False)"
   ]
  },
  {
   "cell_type": "code",
   "execution_count": 3,
   "id": "b512f4bb-3727-4abc-9b2f-4a573f68db9d",
   "metadata": {},
   "outputs": [
    {
     "data": {
      "text/plain": [
       "True"
      ]
     },
     "execution_count": 3,
     "metadata": {},
     "output_type": "execute_result"
    }
   ],
   "source": [
    "not 0"
   ]
  },
  {
   "cell_type": "code",
   "execution_count": 4,
   "id": "744fbd8c-0e01-4d88-866a-e3b2b4107489",
   "metadata": {},
   "outputs": [
    {
     "data": {
      "text/plain": [
       "True"
      ]
     },
     "execution_count": 4,
     "metadata": {},
     "output_type": "execute_result"
    }
   ],
   "source": [
    "not(0)"
   ]
  },
  {
   "cell_type": "code",
   "execution_count": 8,
   "id": "d25b71ba-7580-43e1-bebb-91003acc522d",
   "metadata": {},
   "outputs": [
    {
     "data": {
      "text/plain": [
       "False"
      ]
     },
     "execution_count": 8,
     "metadata": {},
     "output_type": "execute_result"
    }
   ],
   "source": [
    "not -1"
   ]
  },
  {
   "cell_type": "code",
   "execution_count": 13,
   "id": "a7841c73-31f7-4c9d-ab85-eabcec7abd90",
   "metadata": {},
   "outputs": [
    {
     "data": {
      "text/plain": [
       "True"
      ]
     },
     "execution_count": 13,
     "metadata": {},
     "output_type": "execute_result"
    }
   ],
   "source": [
    "bool(5)"
   ]
  },
  {
   "cell_type": "code",
   "execution_count": 14,
   "id": "0d77ecb3-24ed-49ab-8af7-fc9b28d8031a",
   "metadata": {},
   "outputs": [
    {
     "data": {
      "text/plain": [
       "False"
      ]
     },
     "execution_count": 14,
     "metadata": {},
     "output_type": "execute_result"
    }
   ],
   "source": [
    "not 1"
   ]
  },
  {
   "cell_type": "code",
   "execution_count": 15,
   "id": "fac9ef74-06fb-4306-a6e1-7d200ddae0d5",
   "metadata": {},
   "outputs": [
    {
     "data": {
      "text/plain": [
       "False"
      ]
     },
     "execution_count": 15,
     "metadata": {},
     "output_type": "execute_result"
    }
   ],
   "source": [
    "not 42"
   ]
  },
  {
   "cell_type": "code",
   "execution_count": 21,
   "id": "9cc56ebb-0738-420a-935b-5cb654e8f7bf",
   "metadata": {},
   "outputs": [],
   "source": [
    "a = 5\n",
    "b = 6"
   ]
  },
  {
   "cell_type": "code",
   "execution_count": 22,
   "id": "2139f922-239e-44a0-a858-b84dd9146323",
   "metadata": {},
   "outputs": [
    {
     "data": {
      "text/plain": [
       "True"
      ]
     },
     "execution_count": 22,
     "metadata": {},
     "output_type": "execute_result"
    }
   ],
   "source": [
    "a is not b"
   ]
  },
  {
   "cell_type": "code",
   "execution_count": 23,
   "id": "ab0ea89c-0da6-47a7-bec0-46af7ff0aec8",
   "metadata": {},
   "outputs": [],
   "source": [
    "l1 = [1,2,3]\n",
    "l2 = [1,2,3]"
   ]
  },
  {
   "cell_type": "code",
   "execution_count": 24,
   "id": "ab894445-0e29-4619-a128-30652b5d4dda",
   "metadata": {},
   "outputs": [
    {
     "data": {
      "text/plain": [
       "False"
      ]
     },
     "execution_count": 24,
     "metadata": {},
     "output_type": "execute_result"
    }
   ],
   "source": [
    "l1 is l2"
   ]
  },
  {
   "cell_type": "code",
   "execution_count": 25,
   "id": "ef67520b-25a3-493f-857a-7ce23aaee474",
   "metadata": {},
   "outputs": [
    {
     "data": {
      "text/plain": [
       "True"
      ]
     },
     "execution_count": 25,
     "metadata": {},
     "output_type": "execute_result"
    }
   ],
   "source": [
    "l1 == l2"
   ]
  },
  {
   "cell_type": "code",
   "execution_count": 26,
   "id": "a7fa5a8f-5b5d-41f2-aea0-6cba50e39abb",
   "metadata": {},
   "outputs": [
    {
     "data": {
      "text/plain": [
       "4"
      ]
     },
     "execution_count": 26,
     "metadata": {},
     "output_type": "execute_result"
    }
   ],
   "source": [
    "1+3"
   ]
  },
  {
   "cell_type": "markdown",
   "id": "af03996e-8099-4588-b77d-0f997a404ede",
   "metadata": {},
   "source": [
    "                Operators In String\n",
    "\n",
    "A. Arithmatic Operator\n",
    "    \n",
    "    1. addition                        -> (+)\n",
    "    2. subtraction                     -> (-)\n",
    "    3. multiplication                  -> (*)\n",
    "    4. division                        -> (/)\n",
    "    5. division without decimal values -> (//)\n",
    "    6. Modulus (Remainder)             -> (%)\n",
    "    "
   ]
  },
  {
   "cell_type": "code",
   "execution_count": 1,
   "id": "c8c50dad-6e6d-4cd0-b145-9f00470ea6e1",
   "metadata": {},
   "outputs": [],
   "source": [
    "num1 = 10\n",
    "num2 = 2"
   ]
  },
  {
   "cell_type": "code",
   "execution_count": 2,
   "id": "bd53b81d-224c-4e03-b112-5f54a84037e6",
   "metadata": {},
   "outputs": [
    {
     "data": {
      "text/plain": [
       "12"
      ]
     },
     "execution_count": 2,
     "metadata": {},
     "output_type": "execute_result"
    }
   ],
   "source": [
    "#Addition\n",
    "num1 + num2"
   ]
  },
  {
   "cell_type": "code",
   "execution_count": 3,
   "id": "92c594e0-127a-4b00-ad13-79c40a740a61",
   "metadata": {},
   "outputs": [
    {
     "data": {
      "text/plain": [
       "8"
      ]
     },
     "execution_count": 3,
     "metadata": {},
     "output_type": "execute_result"
    }
   ],
   "source": [
    "#Substraction\n",
    "num1 - num2"
   ]
  },
  {
   "cell_type": "code",
   "execution_count": 4,
   "id": "399c75b6-d5bf-42e7-bc72-f555ac144382",
   "metadata": {},
   "outputs": [
    {
     "data": {
      "text/plain": [
       "20"
      ]
     },
     "execution_count": 4,
     "metadata": {},
     "output_type": "execute_result"
    }
   ],
   "source": [
    "#Multiplication\n",
    "num1 * num2"
   ]
  },
  {
   "cell_type": "code",
   "execution_count": 5,
   "id": "33057b4b-3f3f-42cf-b225-18bdebf37647",
   "metadata": {},
   "outputs": [
    {
     "data": {
      "text/plain": [
       "5.0"
      ]
     },
     "execution_count": 5,
     "metadata": {},
     "output_type": "execute_result"
    }
   ],
   "source": [
    "#Division\n",
    "num1 / num2"
   ]
  },
  {
   "cell_type": "code",
   "execution_count": 6,
   "id": "9bb8fbc5-4950-487e-b61f-b020504b65e5",
   "metadata": {},
   "outputs": [
    {
     "data": {
      "text/plain": [
       "3.3333333333333335"
      ]
     },
     "execution_count": 6,
     "metadata": {},
     "output_type": "execute_result"
    }
   ],
   "source": [
    "num1 / 3"
   ]
  },
  {
   "cell_type": "code",
   "execution_count": 7,
   "id": "970c4622-03ab-477b-b143-abea893e7760",
   "metadata": {},
   "outputs": [
    {
     "data": {
      "text/plain": [
       "5"
      ]
     },
     "execution_count": 7,
     "metadata": {},
     "output_type": "execute_result"
    }
   ],
   "source": [
    "#Division without dicimal points\n",
    "\n",
    "num1 // num2"
   ]
  },
  {
   "cell_type": "code",
   "execution_count": 8,
   "id": "5c172c28-0246-4426-9ca2-b078ac1097e3",
   "metadata": {},
   "outputs": [
    {
     "data": {
      "text/plain": [
       "3"
      ]
     },
     "execution_count": 8,
     "metadata": {},
     "output_type": "execute_result"
    }
   ],
   "source": [
    "num1 // 3"
   ]
  },
  {
   "cell_type": "code",
   "execution_count": 9,
   "id": "b384b8c9-de06-4b80-8a82-4bdc965a1163",
   "metadata": {},
   "outputs": [
    {
     "data": {
      "text/plain": [
       "0"
      ]
     },
     "execution_count": 9,
     "metadata": {},
     "output_type": "execute_result"
    }
   ],
   "source": [
    "#modulus or Remainder\n",
    "\n",
    "num1 % num2"
   ]
  },
  {
   "cell_type": "code",
   "execution_count": 11,
   "id": "f03da89e-d63a-411a-8d4d-a2bd89713381",
   "metadata": {},
   "outputs": [
    {
     "data": {
      "text/plain": [
       "1"
      ]
     },
     "execution_count": 11,
     "metadata": {},
     "output_type": "execute_result"
    }
   ],
   "source": [
    "num1 % 3 #Quotient  is 3 and remainder is 1"
   ]
  },
  {
   "cell_type": "markdown",
   "id": "f83df3a1-0c27-4aed-8c45-9cddea18c428",
   "metadata": {},
   "source": [
    "B. Comparison Operator\n",
    "\n",
    "    1.Equal                    -> (==) \n",
    "    2.Not equal                -> (!=) \n",
    "    3.Greater than             -> (>)\n",
    "    4.Less than                -> (<)\n",
    "    5.Greater than or equal to -> (>=)       \n",
    "    6.Less than or equal to    -> (<=)  \n",
    "   "
   ]
  },
  {
   "cell_type": "code",
   "execution_count": 13,
   "id": "8635542b-5d3e-4952-b7c8-df854ceec379",
   "metadata": {},
   "outputs": [],
   "source": [
    "num1 = 10\n",
    "num2 = 20"
   ]
  },
  {
   "cell_type": "code",
   "execution_count": 14,
   "id": "b2566cfb-0722-4ba8-a1c9-88fd5c213fee",
   "metadata": {},
   "outputs": [
    {
     "data": {
      "text/plain": [
       "False"
      ]
     },
     "execution_count": 14,
     "metadata": {},
     "output_type": "execute_result"
    }
   ],
   "source": [
    "#Equals\n",
    "num1 == num2"
   ]
  },
  {
   "cell_type": "code",
   "execution_count": 15,
   "id": "a0edb068-b29f-4317-b06e-c169b2ce0bf0",
   "metadata": {},
   "outputs": [
    {
     "data": {
      "text/plain": [
       "True"
      ]
     },
     "execution_count": 15,
     "metadata": {},
     "output_type": "execute_result"
    }
   ],
   "source": [
    "#Not Equals\n",
    "num1 != num2"
   ]
  },
  {
   "cell_type": "code",
   "execution_count": 16,
   "id": "d4b0643e-8ee8-4408-b0c0-bf5d9d6d65cd",
   "metadata": {},
   "outputs": [
    {
     "data": {
      "text/plain": [
       "False"
      ]
     },
     "execution_count": 16,
     "metadata": {},
     "output_type": "execute_result"
    }
   ],
   "source": [
    "#Greater Than\n",
    "num1 > num2"
   ]
  },
  {
   "cell_type": "code",
   "execution_count": 17,
   "id": "573b99b5-e297-448c-9ddc-7844b731eecc",
   "metadata": {},
   "outputs": [
    {
     "data": {
      "text/plain": [
       "True"
      ]
     },
     "execution_count": 17,
     "metadata": {},
     "output_type": "execute_result"
    }
   ],
   "source": [
    "#Less Than\n",
    "num1 < num2"
   ]
  },
  {
   "cell_type": "code",
   "execution_count": 21,
   "id": "09d70076-f385-49b6-9201-f37aa9a4590c",
   "metadata": {},
   "outputs": [
    {
     "data": {
      "text/plain": [
       "False"
      ]
     },
     "execution_count": 21,
     "metadata": {},
     "output_type": "execute_result"
    }
   ],
   "source": [
    "#Greater Than Or Equal To\n",
    "num1 >= num2"
   ]
  },
  {
   "cell_type": "code",
   "execution_count": 22,
   "id": "82d52940-682b-4428-886d-634c17c2f32b",
   "metadata": {},
   "outputs": [
    {
     "data": {
      "text/plain": [
       "True"
      ]
     },
     "execution_count": 22,
     "metadata": {},
     "output_type": "execute_result"
    }
   ],
   "source": [
    "30 >= 30"
   ]
  },
  {
   "cell_type": "code",
   "execution_count": 23,
   "id": "00377e7b-2226-4c48-80aa-51db3e4643a4",
   "metadata": {},
   "outputs": [
    {
     "data": {
      "text/plain": [
       "True"
      ]
     },
     "execution_count": 23,
     "metadata": {},
     "output_type": "execute_result"
    }
   ],
   "source": [
    "#Less Than Or Equal To\n",
    "num1 <= num2"
   ]
  },
  {
   "cell_type": "code",
   "execution_count": 24,
   "id": "e841da69-2599-48f1-9e06-453823c02a39",
   "metadata": {},
   "outputs": [
    {
     "data": {
      "text/plain": [
       "True"
      ]
     },
     "execution_count": 24,
     "metadata": {},
     "output_type": "execute_result"
    }
   ],
   "source": [
    "20 <= num2"
   ]
  },
  {
   "cell_type": "markdown",
   "id": "13727258-0762-4c4c-acbe-7dc87c0d334c",
   "metadata": {},
   "source": [
    "C. Logical Operator\n",
    "\n",
    "   1. and   ->    Returns True if both statements are true  \n",
    "   2. or      ->    Returns True if one of the statements is true \n",
    "   3. not   ->    Reverse the result, returns False if the result is true\n",
    "\n"
   ]
  },
  {
   "cell_type": "code",
   "execution_count": 27,
   "id": "bd7632f5-63d1-47c3-b6ca-15f699c117f4",
   "metadata": {},
   "outputs": [],
   "source": [
    "# and\n",
    "num1 = 10\n",
    "num2 = 20"
   ]
  },
  {
   "cell_type": "code",
   "execution_count": 28,
   "id": "df3b5098-8f80-4993-bf26-c1b5fc83465f",
   "metadata": {},
   "outputs": [
    {
     "data": {
      "text/plain": [
       "True"
      ]
     },
     "execution_count": 28,
     "metadata": {},
     "output_type": "execute_result"
    }
   ],
   "source": [
    "num1 < num2 and num1 == 10"
   ]
  },
  {
   "cell_type": "code",
   "execution_count": 29,
   "id": "200eef18-1e15-47f3-8ae4-8d739f41ca86",
   "metadata": {},
   "outputs": [
    {
     "data": {
      "text/plain": [
       "False"
      ]
     },
     "execution_count": 29,
     "metadata": {},
     "output_type": "execute_result"
    }
   ],
   "source": [
    "num1 != num2 and num1 > num2"
   ]
  },
  {
   "cell_type": "code",
   "execution_count": 30,
   "id": "7b36e8f5-e3bc-4cac-9207-6cec70d3102f",
   "metadata": {},
   "outputs": [
    {
     "data": {
      "text/plain": [
       "True"
      ]
     },
     "execution_count": 30,
     "metadata": {},
     "output_type": "execute_result"
    }
   ],
   "source": [
    "True and True"
   ]
  },
  {
   "cell_type": "code",
   "execution_count": 31,
   "id": "58d827f7-d05b-4e8f-8f39-032539a81349",
   "metadata": {},
   "outputs": [
    {
     "data": {
      "text/plain": [
       "False"
      ]
     },
     "execution_count": 31,
     "metadata": {},
     "output_type": "execute_result"
    }
   ],
   "source": [
    "True and False"
   ]
  },
  {
   "cell_type": "code",
   "execution_count": 32,
   "id": "5e4e78b4-0242-4d4a-a191-c5ccf7f82abd",
   "metadata": {},
   "outputs": [
    {
     "data": {
      "text/plain": [
       "False"
      ]
     },
     "execution_count": 32,
     "metadata": {},
     "output_type": "execute_result"
    }
   ],
   "source": [
    "False and True"
   ]
  },
  {
   "cell_type": "code",
   "execution_count": 34,
   "id": "1724e735-dfdc-45fd-afe1-4ca28bca352d",
   "metadata": {},
   "outputs": [
    {
     "data": {
      "text/plain": [
       "False"
      ]
     },
     "execution_count": 34,
     "metadata": {},
     "output_type": "execute_result"
    }
   ],
   "source": [
    "False and False"
   ]
  },
  {
   "cell_type": "code",
   "execution_count": 37,
   "id": "8b952677-517e-43e4-b4e2-7d3d167bf225",
   "metadata": {},
   "outputs": [
    {
     "data": {
      "text/plain": [
       "0"
      ]
     },
     "execution_count": 37,
     "metadata": {},
     "output_type": "execute_result"
    }
   ],
   "source": [
    "1 and 0       # Internaly 1 is True and 0 is False"
   ]
  },
  {
   "cell_type": "code",
   "execution_count": 39,
   "id": "e271f58f-f470-464c-bb6b-551a4325ef6c",
   "metadata": {},
   "outputs": [
    {
     "data": {
      "text/plain": [
       "True"
      ]
     },
     "execution_count": 39,
     "metadata": {},
     "output_type": "execute_result"
    }
   ],
   "source": [
    "bool(1 and 1 )"
   ]
  },
  {
   "cell_type": "code",
   "execution_count": 40,
   "id": "dcdf1364-5b14-441a-b971-798a06c13727",
   "metadata": {},
   "outputs": [],
   "source": [
    "# Or\n",
    "num1 = 10\n",
    "num2 = 20"
   ]
  },
  {
   "cell_type": "code",
   "execution_count": 41,
   "id": "b8815b61-f581-4828-be8f-f27fa94f4544",
   "metadata": {},
   "outputs": [
    {
     "data": {
      "text/plain": [
       "True"
      ]
     },
     "execution_count": 41,
     "metadata": {},
     "output_type": "execute_result"
    }
   ],
   "source": [
    "num1 > num2 or num1 == 10"
   ]
  },
  {
   "cell_type": "code",
   "execution_count": 42,
   "id": "0abf3596-452c-49a5-b723-962150d0c447",
   "metadata": {},
   "outputs": [
    {
     "data": {
      "text/plain": [
       "False"
      ]
     },
     "execution_count": 42,
     "metadata": {},
     "output_type": "execute_result"
    }
   ],
   "source": [
    "num2 == 5 or num1 == num2"
   ]
  },
  {
   "cell_type": "code",
   "execution_count": 43,
   "id": "284b54cb-4235-4286-936a-f64540ace723",
   "metadata": {},
   "outputs": [
    {
     "data": {
      "text/plain": [
       "False"
      ]
     },
     "execution_count": 43,
     "metadata": {},
     "output_type": "execute_result"
    }
   ],
   "source": [
    "False or False"
   ]
  },
  {
   "cell_type": "code",
   "execution_count": 44,
   "id": "690322da-2f22-4ad1-bbbf-408c5261cc15",
   "metadata": {},
   "outputs": [
    {
     "data": {
      "text/plain": [
       "True"
      ]
     },
     "execution_count": 44,
     "metadata": {},
     "output_type": "execute_result"
    }
   ],
   "source": [
    "False or True"
   ]
  },
  {
   "cell_type": "code",
   "execution_count": 45,
   "id": "6e4992a2-6206-4f64-85b7-2a96b0fd704f",
   "metadata": {},
   "outputs": [
    {
     "data": {
      "text/plain": [
       "True"
      ]
     },
     "execution_count": 45,
     "metadata": {},
     "output_type": "execute_result"
    }
   ],
   "source": [
    "True or False"
   ]
  },
  {
   "cell_type": "code",
   "execution_count": 46,
   "id": "b07f6d1e-75df-410b-9dbb-6916da80d3cf",
   "metadata": {},
   "outputs": [
    {
     "data": {
      "text/plain": [
       "True"
      ]
     },
     "execution_count": 46,
     "metadata": {},
     "output_type": "execute_result"
    }
   ],
   "source": [
    "True or True"
   ]
  },
  {
   "cell_type": "code",
   "execution_count": 49,
   "id": "e194f2e7-224c-4880-9d04-1105982af8d4",
   "metadata": {},
   "outputs": [
    {
     "data": {
      "text/plain": [
       "False"
      ]
     },
     "execution_count": 49,
     "metadata": {},
     "output_type": "execute_result"
    }
   ],
   "source": [
    "#Not\n",
    "\n",
    "not True"
   ]
  },
  {
   "cell_type": "code",
   "execution_count": 50,
   "id": "1f193b56-fa9a-4cb0-9109-fe9aa194e1ea",
   "metadata": {},
   "outputs": [
    {
     "data": {
      "text/plain": [
       "True"
      ]
     },
     "execution_count": 50,
     "metadata": {},
     "output_type": "execute_result"
    }
   ],
   "source": [
    "not False"
   ]
  },
  {
   "cell_type": "code",
   "execution_count": 51,
   "id": "e7be5d70-e004-4286-9b1e-518ef71b12cf",
   "metadata": {},
   "outputs": [
    {
     "data": {
      "text/plain": [
       "True"
      ]
     },
     "execution_count": 51,
     "metadata": {},
     "output_type": "execute_result"
    }
   ],
   "source": [
    "bool(1)"
   ]
  },
  {
   "cell_type": "code",
   "execution_count": 52,
   "id": "3e4a7b88-8c7e-4d53-bf82-60a35723869a",
   "metadata": {},
   "outputs": [
    {
     "data": {
      "text/plain": [
       "True"
      ]
     },
     "execution_count": 52,
     "metadata": {},
     "output_type": "execute_result"
    }
   ],
   "source": [
    "bool(5)"
   ]
  },
  {
   "cell_type": "code",
   "execution_count": 53,
   "id": "baeaa0bd-ae1b-4f17-a257-374ba3b617d5",
   "metadata": {},
   "outputs": [
    {
     "data": {
      "text/plain": [
       "True"
      ]
     },
     "execution_count": 53,
     "metadata": {},
     "output_type": "execute_result"
    }
   ],
   "source": [
    "bool(-85)  #bool of other than zero is True"
   ]
  },
  {
   "cell_type": "code",
   "execution_count": 54,
   "id": "23cbeb8b-b2c5-4f44-9c24-6277d9e08cea",
   "metadata": {},
   "outputs": [
    {
     "data": {
      "text/plain": [
       "False"
      ]
     },
     "execution_count": 54,
     "metadata": {},
     "output_type": "execute_result"
    }
   ],
   "source": [
    "not bool(-6)"
   ]
  },
  {
   "cell_type": "code",
   "execution_count": 55,
   "id": "5f123abe-fe54-49f3-8a77-adf187c04b5c",
   "metadata": {},
   "outputs": [
    {
     "data": {
      "text/plain": [
       "True"
      ]
     },
     "execution_count": 55,
     "metadata": {},
     "output_type": "execute_result"
    }
   ],
   "source": [
    "not bool(0)"
   ]
  },
  {
   "cell_type": "code",
   "execution_count": 56,
   "id": "97eb2d7b-cf68-42ac-b1e9-93a868309859",
   "metadata": {},
   "outputs": [
    {
     "data": {
      "text/plain": [
       "True"
      ]
     },
     "execution_count": 56,
     "metadata": {},
     "output_type": "execute_result"
    }
   ],
   "source": [
    "not 0  #Not will not a give a ans in 0 and 1 format as and, or"
   ]
  },
  {
   "cell_type": "code",
   "execution_count": 57,
   "id": "990d34c9-5ea3-4ec7-915e-13ee5004c732",
   "metadata": {},
   "outputs": [
    {
     "data": {
      "text/plain": [
       "0"
      ]
     },
     "execution_count": 57,
     "metadata": {},
     "output_type": "execute_result"
    }
   ],
   "source": [
    "0 and 1"
   ]
  },
  {
   "cell_type": "code",
   "execution_count": 58,
   "id": "6bc34d60-0f13-428b-8339-263e8dc816de",
   "metadata": {},
   "outputs": [
    {
     "data": {
      "text/plain": [
       "False"
      ]
     },
     "execution_count": 58,
     "metadata": {},
     "output_type": "execute_result"
    }
   ],
   "source": [
    "not 55"
   ]
  },
  {
   "cell_type": "markdown",
   "id": "7c0a0f06-b382-4f79-9225-153e01aaacec",
   "metadata": {},
   "source": [
    "D.Assignment Operator"
   ]
  },
  {
   "cell_type": "code",
   "execution_count": 60,
   "id": "4e3b412a-4507-49e9-b0be-36c7d156bd15",
   "metadata": {},
   "outputs": [
    {
     "name": "stdout",
     "output_type": "stream",
     "text": [
      "5\n"
     ]
    }
   ],
   "source": [
    "num1 = 5\n",
    "print(num1)"
   ]
  },
  {
   "cell_type": "code",
   "execution_count": 61,
   "id": "9b74595e-62ef-44ba-8ec2-4e2c9efd6910",
   "metadata": {},
   "outputs": [
    {
     "name": "stdout",
     "output_type": "stream",
     "text": [
      "10\n"
     ]
    }
   ],
   "source": [
    "num1 = 5\n",
    "num1 += 5 # num1 = num1 + 5\n",
    "print(num1)"
   ]
  },
  {
   "cell_type": "code",
   "execution_count": 62,
   "id": "45158cf8-9238-4d81-bc10-4e8fe9877f3d",
   "metadata": {},
   "outputs": [
    {
     "name": "stdout",
     "output_type": "stream",
     "text": [
      "3\n"
     ]
    }
   ],
   "source": [
    "num1 = 5\n",
    "num1 -= 2 # num1 = num1 - 2\n",
    "print(num1)"
   ]
  },
  {
   "cell_type": "code",
   "execution_count": 63,
   "id": "ed9f20c7-6b23-4137-b0ba-f02370e25e67",
   "metadata": {},
   "outputs": [
    {
     "name": "stdout",
     "output_type": "stream",
     "text": [
      "125\n"
     ]
    }
   ],
   "source": [
    "num1 = 5\n",
    "num1 *= 25 # num1 = num1 * 25\n",
    "print(num1)"
   ]
  },
  {
   "cell_type": "code",
   "execution_count": 64,
   "id": "6c60deb5-5432-4f19-b34a-3d72e92dd0e2",
   "metadata": {},
   "outputs": [
    {
     "name": "stdout",
     "output_type": "stream",
     "text": [
      "2.5\n"
     ]
    }
   ],
   "source": [
    "num1 = 5\n",
    "num1 /= 2 # num1 = num1 / 2\n",
    "print(num1)"
   ]
  },
  {
   "cell_type": "code",
   "execution_count": 65,
   "id": "69f8d8c3-d730-4ad6-83c6-3ae4f2efa832",
   "metadata": {},
   "outputs": [
    {
     "name": "stdout",
     "output_type": "stream",
     "text": [
      "2\n"
     ]
    }
   ],
   "source": [
    "num1 = 5\n",
    "num1 //= 2 # num1 = num1 // 2\n",
    "print(num1)"
   ]
  },
  {
   "cell_type": "code",
   "execution_count": 67,
   "id": "4a6a4049-af1d-4fdf-9215-b147623e5e57",
   "metadata": {},
   "outputs": [
    {
     "name": "stdout",
     "output_type": "stream",
     "text": [
      "1\n"
     ]
    }
   ],
   "source": [
    "num1 = 5\n",
    "num1 %= 2 # num1 = num1 % 2\n",
    "print(num1)"
   ]
  },
  {
   "cell_type": "code",
   "execution_count": 68,
   "id": "404bb0af-7245-4cd8-8e0a-a4e4fa2de75f",
   "metadata": {},
   "outputs": [
    {
     "name": "stdout",
     "output_type": "stream",
     "text": [
      "25\n"
     ]
    }
   ],
   "source": [
    "num1 = 5\n",
    "num1 **= 2 # num1 = num1 ** 2\n",
    "print(num1)"
   ]
  },
  {
   "cell_type": "code",
   "execution_count": 1,
   "id": "cd721c8b-2774-4b5b-aed8-42276cc3f807",
   "metadata": {},
   "outputs": [
    {
     "name": "stdout",
     "output_type": "stream",
     "text": [
      "0\n"
     ]
    }
   ],
   "source": [
    "num1 = 5\n",
    "num1 &= 2 # num1 = num1 & 2\n",
    "print(num1)\n",
    "\n",
    "#& is a bitwise and operator this calculation perform in bits (answer is true when both true (1) )\n",
    "#               5 -> 101\n",
    "#                  &  \n",
    "#               2 -> 010\n",
    "#                    ----\n",
    "#               0 -> 000\n",
    "    \n"
   ]
  },
  {
   "cell_type": "code",
   "execution_count": 5,
   "id": "7a60178a-f79f-4cf6-972b-b15829ef4a9c",
   "metadata": {},
   "outputs": [
    {
     "name": "stdout",
     "output_type": "stream",
     "text": [
      "7\n"
     ]
    }
   ],
   "source": [
    "num1 = 5\n",
    "num1 |= 2 # num1 = num1 | 2\n",
    "print(num1)\n",
    "\n",
    "# | is a bitwise or operator this calculation perform in bits (answer is true when any one is true (1) )\n",
    "#               5 ->  101\n",
    "#                  &  \n",
    "#               2 ->  010\n",
    "#                    ----\n",
    "#               7 ->  111"
   ]
  },
  {
   "cell_type": "code",
   "execution_count": 6,
   "id": "b90528ce-9de2-48f4-b22b-e08862e1727d",
   "metadata": {},
   "outputs": [
    {
     "name": "stdout",
     "output_type": "stream",
     "text": [
      "7\n"
     ]
    }
   ],
   "source": [
    "num1 = 5\n",
    "num1 ^= 2 # num1 = num1 ^ 2\n",
    "print(num1)\n",
    "\n",
    "# ^ is a bitwise Exor operator this calculation perform in bits (answer is true when both are different (1) )\n",
    "#               5 ->  101\n",
    "#                  ^  \n",
    "#               2 ->  010\n",
    "#                    ----\n",
    "#               7 ->  111"
   ]
  },
  {
   "cell_type": "code",
   "execution_count": 8,
   "id": "c8f5967b-98c6-4a21-ba83-c27ddd5f096c",
   "metadata": {},
   "outputs": [
    {
     "name": "stdout",
     "output_type": "stream",
     "text": [
      "1\n"
     ]
    }
   ],
   "source": [
    "num1 = 5\n",
    "num1 >>= 2 # num1 = num1 >> 2\n",
    "print(num1)\n",
    "\n",
    "# >> is a bitwise Right shift operator this calculation perform in bits (in answer given number of bits are shifted toward right )\n",
    "#               5 ->  101\n",
    "#    remain  1->        1\n",
    "# The two bits from right hand side is shifted to a right"
   ]
  },
  {
   "cell_type": "code",
   "execution_count": 9,
   "id": "ffc0a328-cddb-4ea5-a042-8fb270e76089",
   "metadata": {},
   "outputs": [
    {
     "name": "stdout",
     "output_type": "stream",
     "text": [
      "20\n"
     ]
    }
   ],
   "source": [
    "num1 = 5\n",
    "num1 <<= 2 # num1 = num1 << 2\n",
    "print(num1)\n",
    "\n",
    "# << is a bitwise Left shift operator this calculation perform in bits (in answer given number of bits are shifted toward Left )\n",
    "#               5 ->  101\n",
    "#              20-> 10100\n",
    "# The two bits from right hand side is shifted to a left  and two zero bits are added there"
   ]
  },
  {
   "cell_type": "markdown",
   "id": "236a1feb-cd0e-42f0-b542-6d7592eaf633",
   "metadata": {},
   "source": [
    "E. Identity Operators\n",
    "\n",
    "    1. is          True if the operands are identical \n",
    "    2. is not      True if the operands are not identical \n"
   ]
  },
  {
   "cell_type": "code",
   "execution_count": 10,
   "id": "8b16d805-18aa-4e2e-a789-24c8c00bd1c4",
   "metadata": {},
   "outputs": [
    {
     "name": "stdout",
     "output_type": "stream",
     "text": [
      "True\n",
      "False\n"
     ]
    }
   ],
   "source": [
    "a = 5\n",
    "b = 6\n",
    "c = 20\n",
    "a = b\n",
    "\n",
    "print(a is b)\n",
    "print(a is c)\n"
   ]
  },
  {
   "cell_type": "code",
   "execution_count": 11,
   "id": "5a086fbb-844e-48ee-97bf-72b07e75df9e",
   "metadata": {},
   "outputs": [
    {
     "name": "stdout",
     "output_type": "stream",
     "text": [
      "False\n",
      "False\n",
      "True\n"
     ]
    }
   ],
   "source": [
    "print(a is not b)\n",
    "print(a is not a)\n",
    "print(a is not c)"
   ]
  },
  {
   "cell_type": "code",
   "execution_count": 12,
   "id": "1217f3d8-2e76-4feb-92a1-6c7618b6f2fd",
   "metadata": {},
   "outputs": [
    {
     "name": "stdout",
     "output_type": "stream",
     "text": [
      "False\n"
     ]
    }
   ],
   "source": [
    "l1 = [1,2,3,4]\n",
    "l2 = [1,2,3,4]\n",
    "\n",
    "print(l1 is l2)    # is operator check the memory location"
   ]
  },
  {
   "cell_type": "code",
   "execution_count": 13,
   "id": "7af1946c-9236-4245-91ae-e2a4ab120de9",
   "metadata": {},
   "outputs": [
    {
     "name": "stdout",
     "output_type": "stream",
     "text": [
      "True\n"
     ]
    }
   ],
   "source": [
    "print(l1 == l2)    # == operator check the itams "
   ]
  },
  {
   "cell_type": "code",
   "execution_count": 17,
   "id": "796ce4f2-110d-4834-9fbb-5d16f5866adb",
   "metadata": {},
   "outputs": [
    {
     "name": "stdout",
     "output_type": "stream",
     "text": [
      "140679242857216\n",
      "140678692010368\n"
     ]
    }
   ],
   "source": [
    "print(id(l1))\n",
    "print(id(l2))"
   ]
  },
  {
   "cell_type": "markdown",
   "id": "446ae90f-6f4f-4b11-a12b-8df30144c7d8",
   "metadata": {},
   "source": [
    "F. Membership Operators\n",
    "   \n",
    "in            True if value is found in the sequence\n",
    "not in        True if value is not found in the sequence"
   ]
  },
  {
   "cell_type": "code",
   "execution_count": 18,
   "id": "c0f20c55-4873-4efd-a09f-fe45c0c9fb4e",
   "metadata": {},
   "outputs": [
    {
     "name": "stdout",
     "output_type": "stream",
     "text": [
      "a is present in t\n",
      "b is prsent in t\n"
     ]
    }
   ],
   "source": [
    "a = 4\n",
    "b = 75\n",
    "\n",
    "t = (5,69,4,5,75,2,36)\n",
    "\n",
    "if a in t:     #This condition is true hence if part executed\n",
    "    print(\"a is present in t\")\n",
    "else:\n",
    "    print(\"a is not present in t\")\n",
    "    \n",
    "if b not in t:  #This condition is false hence else part executed\n",
    "    print(\"b is not present in t\")\n",
    "else:\n",
    "    print(\"b is prsent in t\")\n"
   ]
  },
  {
   "cell_type": "code",
   "execution_count": null,
   "id": "d1c8a456-ca8d-4b59-a8b6-ac1a0cde24ca",
   "metadata": {},
   "outputs": [],
   "source": []
  }
 ],
 "metadata": {
  "kernelspec": {
   "display_name": "Python 3 (ipykernel)",
   "language": "python",
   "name": "python3"
  },
  "language_info": {
   "codemirror_mode": {
    "name": "ipython",
    "version": 3
   },
   "file_extension": ".py",
   "mimetype": "text/x-python",
   "name": "python",
   "nbconvert_exporter": "python",
   "pygments_lexer": "ipython3",
   "version": "3.10.8"
  }
 },
 "nbformat": 4,
 "nbformat_minor": 5
}
