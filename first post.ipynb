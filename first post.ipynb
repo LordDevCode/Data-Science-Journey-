{
 "cells": [
  {
   "cell_type": "code",
   "execution_count": 1,
   "id": "a887925f-cc12-484b-9c53-c3e9aa001666",
   "metadata": {},
   "outputs": [
    {
     "data": {
      "text/plain": [
       "1"
      ]
     },
     "execution_count": 1,
     "metadata": {},
     "output_type": "execute_result"
    }
   ],
   "source": [
    "1"
   ]
  },
  {
   "cell_type": "code",
   "execution_count": 2,
   "id": "1b3bd210-f387-438e-a32f-10308574a1d0",
   "metadata": {},
   "outputs": [
    {
     "data": {
      "text/plain": [
       "3"
      ]
     },
     "execution_count": 2,
     "metadata": {},
     "output_type": "execute_result"
    }
   ],
   "source": [
    "2+1"
   ]
  },
  {
   "cell_type": "code",
   "execution_count": 3,
   "id": "57f03ad2-a0d9-4745-a4f8-0f30671909ce",
   "metadata": {},
   "outputs": [
    {
     "data": {
      "text/plain": [
       "16"
      ]
     },
     "execution_count": 3,
     "metadata": {},
     "output_type": "execute_result"
    }
   ],
   "source": [
    "4*4"
   ]
  },
  {
   "cell_type": "code",
   "execution_count": 4,
   "id": "e5032fb8-3714-48f0-9e8b-6eeb9bb2af52",
   "metadata": {},
   "outputs": [
    {
     "data": {
      "text/plain": [
       "4.0"
      ]
     },
     "execution_count": 4,
     "metadata": {},
     "output_type": "execute_result"
    }
   ],
   "source": [
    "20/5"
   ]
  },
  {
   "cell_type": "code",
   "execution_count": 5,
   "id": "f18bc878-e579-4ea9-818a-a5318a16dbc0",
   "metadata": {},
   "outputs": [
    {
     "data": {
      "text/plain": [
       "4"
      ]
     },
     "execution_count": 5,
     "metadata": {},
     "output_type": "execute_result"
    }
   ],
   "source": [
    "20//5"
   ]
  },
  {
   "cell_type": "code",
   "execution_count": null,
   "id": "0c3c4cda-2f21-430c-ad36-80321a006139",
   "metadata": {},
   "outputs": [],
   "source": [
    "#If we want to write a lines for our references or notes\n",
    "# we can use a single (#) hash symbol at the starting of line to make single line comment.\n",
    "\"\"\" If we want to make a comment as multiple line of text then we can use triple single or bubble coats before or after a lines.\n",
    "    and One more important thing is these comments will not be considered as a code.\n",
    "    because this is writen for our understanding to block of code \"\"\""
   ]
  },
  {
   "cell_type": "code",
   "execution_count": 9,
   "id": "a69d25b7-8ac7-4a5e-957e-2256ceeecd2c",
   "metadata": {},
   "outputs": [],
   "source": [
    "#variable is a named block of memory that is use for temporary store a values.\n",
    "# To declare a variable in python it is very easy just simply assign value to name of variable python automatically understand which type of value it is.\n",
    "\n",
    "#Here name and age is variables and \"priyanshu\" and 18 is values that i want to store \n",
    "name = \"priyanshu\"\n",
    "age = 18"
   ]
  },
  {
   "cell_type": "code",
   "execution_count": 11,
   "id": "e950981d-e769-40bb-bb25-7f85dbeb8364",
   "metadata": {},
   "outputs": [
    {
     "name": "stdout",
     "output_type": "stream",
     "text": [
      "priyanshu\n"
     ]
    }
   ],
   "source": [
    "#We can use print() function to print values of variable.\n",
    "print(name)"
   ]
  },
  {
   "cell_type": "code",
   "execution_count": 12,
   "id": "0a47b7df-9737-44f9-9369-45ca649c9567",
   "metadata": {},
   "outputs": [
    {
     "data": {
      "text/plain": [
       "18"
      ]
     },
     "execution_count": 12,
     "metadata": {},
     "output_type": "execute_result"
    }
   ],
   "source": [
    "#we can directly print the value without using print print() funtion.\n",
    "age"
   ]
  },
  {
   "cell_type": "code",
   "execution_count": 13,
   "id": "faf775be-910d-4a9f-9946-70211fab9bfc",
   "metadata": {},
   "outputs": [],
   "source": [
    "# int for Integers - Normal numerical values without decimal points ex- 5, 100, 85\n",
    "# float for Fractional values - with decimal points ex - 5.10,65.45\n",
    "#str for string values - collection of characters(text values) ex - \"priyanshu\", \"abcd\"\n",
    "#bool for boolean values - True or False\n",
    "#Complex - with real part and imaginary part ex- 5 + 45j, 7 + 4j\n",
    "\n",
    "a = 4\n",
    "b = 4.5\n",
    "c = \"priyanshu\"\n",
    "d = True\n",
    "e = 7 + 6j"
   ]
  },
  {
   "cell_type": "code",
   "execution_count": 18,
   "id": "9546fd4f-d471-4d36-9e22-5d2f6e1b1088",
   "metadata": {},
   "outputs": [
    {
     "data": {
      "text/plain": [
       "(int, float, str, bool, complex)"
      ]
     },
     "execution_count": 18,
     "metadata": {},
     "output_type": "execute_result"
    }
   ],
   "source": [
    "type(a),type(b),type(c),type(d),type(e)"
   ]
  },
  {
   "cell_type": "code",
   "execution_count": 19,
   "id": "e26a84d0-2b5e-4353-8263-16d66628e454",
   "metadata": {},
   "outputs": [
    {
     "name": "stdout",
     "output_type": "stream",
     "text": [
      "4\n"
     ]
    }
   ],
   "source": [
    "print(a)"
   ]
  },
  {
   "cell_type": "code",
   "execution_count": 20,
   "id": "d65b910a-83e5-4caa-ae2b-4955cb173ab2",
   "metadata": {},
   "outputs": [
    {
     "name": "stdout",
     "output_type": "stream",
     "text": [
      "Hello World\n"
     ]
    }
   ],
   "source": [
    "print(\"Hello World\")"
   ]
  },
  {
   "cell_type": "code",
   "execution_count": 21,
   "id": "abcdc139-3e16-4a2c-96b1-674e4cab6138",
   "metadata": {},
   "outputs": [
    {
     "name": "stdout",
     "output_type": "stream",
     "text": [
      "(7+6j)\n"
     ]
    }
   ],
   "source": [
    "print(e)"
   ]
  },
  {
   "cell_type": "code",
   "execution_count": 22,
   "id": "e0cc17c6-09e1-437d-9107-ac91ca00013a",
   "metadata": {},
   "outputs": [
    {
     "name": "stdout",
     "output_type": "stream",
     "text": [
      "4 priyanshu\n"
     ]
    }
   ],
   "source": [
    "print(a,c)"
   ]
  },
  {
   "cell_type": "code",
   "execution_count": 24,
   "id": "6fc0aab7-04b0-4064-9376-3d4d5e88b17d",
   "metadata": {},
   "outputs": [
    {
     "name": "stdout",
     "output_type": "stream",
     "text": [
      "4-priyanshu\n"
     ]
    }
   ],
   "source": [
    "print(a,c,sep= \"-\")"
   ]
  },
  {
   "cell_type": "code",
   "execution_count": 26,
   "id": "d668d2b9-9fcc-4816-9ca3-f9d9925aa7ea",
   "metadata": {},
   "outputs": [
    {
     "data": {
      "text/plain": [
       "int"
      ]
     },
     "execution_count": 26,
     "metadata": {},
     "output_type": "execute_result"
    }
   ],
   "source": [
    "type(a)"
   ]
  },
  {
   "cell_type": "code",
   "execution_count": 27,
   "id": "98c26d77-43a1-45ab-b827-9e8ba08c85db",
   "metadata": {},
   "outputs": [],
   "source": [
    "a=str(a)"
   ]
  },
  {
   "cell_type": "code",
   "execution_count": 28,
   "id": "509fb053-0d22-4dee-8b7f-bffbb2598fb9",
   "metadata": {},
   "outputs": [
    {
     "data": {
      "text/plain": [
       "str"
      ]
     },
     "execution_count": 28,
     "metadata": {},
     "output_type": "execute_result"
    }
   ],
   "source": [
    "type(a)"
   ]
  },
  {
   "cell_type": "code",
   "execution_count": 33,
   "id": "ea3efa28-f41f-444f-9e71-5854c1075e9a",
   "metadata": {},
   "outputs": [],
   "source": [
    "c = 255"
   ]
  },
  {
   "cell_type": "code",
   "execution_count": 34,
   "id": "4a972c73-1b42-4ce6-9d3d-a82b327cd5ea",
   "metadata": {},
   "outputs": [
    {
     "data": {
      "text/plain": [
       "int"
      ]
     },
     "execution_count": 34,
     "metadata": {},
     "output_type": "execute_result"
    }
   ],
   "source": [
    "type(c)"
   ]
  },
  {
   "cell_type": "code",
   "execution_count": null,
   "id": "b8130343-8ae6-43d7-bd54-f430f58d5960",
   "metadata": {},
   "outputs": [],
   "source": [
    "int("
   ]
  }
 ],
 "metadata": {
  "kernelspec": {
   "display_name": "Python 3 (ipykernel)",
   "language": "python",
   "name": "python3"
  },
  "language_info": {
   "codemirror_mode": {
    "name": "ipython",
    "version": 3
   },
   "file_extension": ".py",
   "mimetype": "text/x-python",
   "name": "python",
   "nbconvert_exporter": "python",
   "pygments_lexer": "ipython3",
   "version": "3.10.8"
  }
 },
 "nbformat": 4,
 "nbformat_minor": 5
}
